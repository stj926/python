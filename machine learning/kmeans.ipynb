{
 "cells": [
  {
   "cell_type": "code",
   "execution_count": 1,
   "metadata": {
    "collapsed": true
   },
   "outputs": [],
   "source": [
    "import numpy as np\n",
    "import pandas as pd\n",
    "from sklearn.cluster import KMeans\n",
    "#from sklearn.preprocessing import MinMaxScaler\n",
    "import matplotlib.pyplot as plt\n",
    "import seaborn as sns\n",
    "%matplotlib inline\n",
    "\n",
    "sns.set_style(\"whitegrid\") "
   ]
  },
  {
   "cell_type": "code",
   "execution_count": 2,
   "metadata": {
    "collapsed": true
   },
   "outputs": [],
   "source": [
    "data = pd.read_csv('Adobe1.csv')"
   ]
  },
  {
   "cell_type": "code",
   "execution_count": 3,
   "metadata": {
    "scrolled": true
   },
   "outputs": [
    {
     "data": {
      "text/html": [
       "<div>\n",
       "<style>\n",
       "    .dataframe thead tr:only-child th {\n",
       "        text-align: right;\n",
       "    }\n",
       "\n",
       "    .dataframe thead th {\n",
       "        text-align: left;\n",
       "    }\n",
       "\n",
       "    .dataframe tbody tr th {\n",
       "        vertical-align: top;\n",
       "    }\n",
       "</style>\n",
       "<table border=\"1\" class=\"dataframe\">\n",
       "  <thead>\n",
       "    <tr style=\"text-align: right;\">\n",
       "      <th></th>\n",
       "      <th>Page</th>\n",
       "      <th>Unique Visitors</th>\n",
       "      <th>Page Views</th>\n",
       "      <th>Visits</th>\n",
       "      <th>Pages per Visit</th>\n",
       "      <th>ATS</th>\n",
       "      <th>Bounce Rate</th>\n",
       "      <th>Entry Rate</th>\n",
       "      <th>Exit Rate</th>\n",
       "      <th>Searches</th>\n",
       "    </tr>\n",
       "  </thead>\n",
       "  <tbody>\n",
       "    <tr>\n",
       "      <th>0</th>\n",
       "      <td>https://us.spdrs.com/en/ad/mdy?WT.mc_id=digita...</td>\n",
       "      <td>52923</td>\n",
       "      <td>57480</td>\n",
       "      <td>54230</td>\n",
       "      <td>1.1</td>\n",
       "      <td>0:00:09</td>\n",
       "      <td>0.9226</td>\n",
       "      <td>0.9998</td>\n",
       "      <td>0.99</td>\n",
       "      <td>0</td>\n",
       "    </tr>\n",
       "    <tr>\n",
       "      <th>1</th>\n",
       "      <td>https://us.spdrs.com/en/ad/mdy?WT.mc_id=dis_MD...</td>\n",
       "      <td>22341</td>\n",
       "      <td>27756</td>\n",
       "      <td>25077</td>\n",
       "      <td>1.1</td>\n",
       "      <td>0:00:22</td>\n",
       "      <td>0.8944</td>\n",
       "      <td>0.9981</td>\n",
       "      <td>0.98</td>\n",
       "      <td>2</td>\n",
       "    </tr>\n",
       "    <tr>\n",
       "      <th>2</th>\n",
       "      <td>https://us.spdrs.com/en</td>\n",
       "      <td>17165</td>\n",
       "      <td>24844</td>\n",
       "      <td>20211</td>\n",
       "      <td>1.2</td>\n",
       "      <td>0:00:53</td>\n",
       "      <td>0.5085</td>\n",
       "      <td>0.8103</td>\n",
       "      <td>0.53</td>\n",
       "      <td>8510</td>\n",
       "    </tr>\n",
       "    <tr>\n",
       "      <th>3</th>\n",
       "      <td>https://us.spdrs.com/en/ad/mdy?WT.mc_id=digita...</td>\n",
       "      <td>12331</td>\n",
       "      <td>14274</td>\n",
       "      <td>13503</td>\n",
       "      <td>1.1</td>\n",
       "      <td>0:00:14</td>\n",
       "      <td>0.9338</td>\n",
       "      <td>0.9985</td>\n",
       "      <td>0.99</td>\n",
       "      <td>0</td>\n",
       "    </tr>\n",
       "    <tr>\n",
       "      <th>4</th>\n",
       "      <td>https://us.spdrs.com/en/etf/spdr-sp-500-etf-SPY</td>\n",
       "      <td>7143</td>\n",
       "      <td>9784</td>\n",
       "      <td>8979</td>\n",
       "      <td>1.1</td>\n",
       "      <td>0:01:10</td>\n",
       "      <td>0.6647</td>\n",
       "      <td>0.7105</td>\n",
       "      <td>0.81</td>\n",
       "      <td>5277</td>\n",
       "    </tr>\n",
       "  </tbody>\n",
       "</table>\n",
       "</div>"
      ],
      "text/plain": [
       "                                                Page  Unique Visitors  \\\n",
       "0  https://us.spdrs.com/en/ad/mdy?WT.mc_id=digita...            52923   \n",
       "1  https://us.spdrs.com/en/ad/mdy?WT.mc_id=dis_MD...            22341   \n",
       "2                            https://us.spdrs.com/en            17165   \n",
       "3  https://us.spdrs.com/en/ad/mdy?WT.mc_id=digita...            12331   \n",
       "4    https://us.spdrs.com/en/etf/spdr-sp-500-etf-SPY             7143   \n",
       "\n",
       "   Page Views  Visits  Pages per Visit      ATS  Bounce Rate  Entry Rate  \\\n",
       "0       57480   54230              1.1  0:00:09       0.9226      0.9998   \n",
       "1       27756   25077              1.1  0:00:22       0.8944      0.9981   \n",
       "2       24844   20211              1.2  0:00:53       0.5085      0.8103   \n",
       "3       14274   13503              1.1  0:00:14       0.9338      0.9985   \n",
       "4        9784    8979              1.1  0:01:10       0.6647      0.7105   \n",
       "\n",
       "   Exit Rate  Searches  \n",
       "0       0.99         0  \n",
       "1       0.98         2  \n",
       "2       0.53      8510  \n",
       "3       0.99         0  \n",
       "4       0.81      5277  "
      ]
     },
     "execution_count": 3,
     "metadata": {},
     "output_type": "execute_result"
    }
   ],
   "source": [
    "data.head()"
   ]
  },
  {
   "cell_type": "code",
   "execution_count": null,
   "metadata": {
    "collapsed": true
   },
   "outputs": [],
   "source": []
  },
  {
   "cell_type": "code",
   "execution_count": 4,
   "metadata": {
    "collapsed": true
   },
   "outputs": [],
   "source": [
    "data.ATS = [int(i[2:4])*60 + int(i[5:]) for i in data.ATS]"
   ]
  },
  {
   "cell_type": "code",
   "execution_count": 5,
   "metadata": {},
   "outputs": [
    {
     "data": {
      "text/plain": [
       "0     9\n",
       "1    22\n",
       "2    53\n",
       "3    14\n",
       "4    70\n",
       "Name: ATS, dtype: int64"
      ]
     },
     "execution_count": 5,
     "metadata": {},
     "output_type": "execute_result"
    }
   ],
   "source": [
    "data.ATS.head()"
   ]
  },
  {
   "cell_type": "code",
   "execution_count": 6,
   "metadata": {
    "collapsed": true
   },
   "outputs": [],
   "source": [
    "data = data.drop(['Page'],axis=1)\n",
    "data_norm = (data - data.min()) / (data.max() - data.min())"
   ]
  },
  {
   "cell_type": "code",
   "execution_count": 7,
   "metadata": {
    "collapsed": true
   },
   "outputs": [],
   "source": [
    "#?clf\n",
    "clf = KMeans(n_clusters=6)"
   ]
  },
  {
   "cell_type": "code",
   "execution_count": 8,
   "metadata": {},
   "outputs": [
    {
     "data": {
      "text/plain": [
       "KMeans(algorithm='auto', copy_x=True, init='k-means++', max_iter=300,\n",
       "    n_clusters=6, n_init=10, n_jobs=1, precompute_distances='auto',\n",
       "    random_state=None, tol=0.0001, verbose=0)"
      ]
     },
     "execution_count": 8,
     "metadata": {},
     "output_type": "execute_result"
    }
   ],
   "source": [
    "clf.fit(data_norm)"
   ]
  },
  {
   "cell_type": "code",
   "execution_count": 9,
   "metadata": {
    "scrolled": true
   },
   "outputs": [
    {
     "name": "stdout",
     "output_type": "stream",
     "text": [
      "[[0.08553666 0.09335162 0.09172024 0.13636364 0.13032985 0.88222513\n",
      "  0.99275855 0.95658073 0.02670655]\n",
      " [0.00663582 0.00985909 0.00990668 0.1969697  0.46580853 0.66070033\n",
      "  0.85272292 0.78697422 0.10144215]\n",
      " [1.         1.         1.         0.16666667 0.07964602 0.90212443\n",
      "  0.99971803 0.98507463 0.        ]\n",
      " [0.03098919 0.05970534 0.03761083 0.70833333 0.7300885  0.39532752\n",
      "  0.27128859 0.32462687 0.10843126]\n",
      " [0.11399163 0.15103824 0.12911545 0.41666667 0.46902655 0.29824229\n",
      "  0.83353306 0.27238806 0.49864865]\n",
      " [0.01723174 0.02234367 0.02256729 0.1754386  0.74289707 0.55076804\n",
      "  0.5217301  0.61429694 0.1679572 ]]\n"
     ]
    }
   ],
   "source": [
    "print(clf.cluster_centers_)"
   ]
  },
  {
   "cell_type": "code",
   "execution_count": 10,
   "metadata": {},
   "outputs": [
    {
     "name": "stdout",
     "output_type": "stream",
     "text": [
      "[2 0 4 0 5 0 4 0 0 3 3 0 4 5 1 5 5 5 5 4 5 1 5 0 1 5 5 0 5 5 5 5 0 1 3 1 5\n",
      " 3 0 1 5 0 5 1 1 1 5 1 1 5]\n"
     ]
    }
   ],
   "source": [
    "print(clf.labels_)"
   ]
  },
  {
   "cell_type": "code",
   "execution_count": 11,
   "metadata": {},
   "outputs": [
    {
     "name": "stdout",
     "output_type": "stream",
     "text": [
      "4.152691205102262\n"
     ]
    }
   ],
   "source": [
    "print(clf.inertia_)"
   ]
  },
  {
   "cell_type": "code",
   "execution_count": 12,
   "metadata": {},
   "outputs": [
    {
     "name": "stdout",
     "output_type": "stream",
     "text": [
      "[2 0 4 0 5 0 4 0 0 3 3 0 4 5 1 5 5 5 5 4 5 1 5 0 1 5 5 0 5 5 5 5 0 1 3 1 5\n",
      " 3 0 1 5 0 5 1 1 1 5 1 1 5]\n"
     ]
    }
   ],
   "source": [
    "print(clf.predict(data_norm))"
   ]
  },
  {
   "cell_type": "code",
   "execution_count": 13,
   "metadata": {},
   "outputs": [
    {
     "name": "stdout",
     "output_type": "stream",
     "text": [
      "1 18.594470861459232\n",
      "2 11.22048855809204\n",
      "3 8.590417374619127\n",
      "4 6.489318550288382\n",
      "5 5.20704075598768\n",
      "6 4.152691205102262\n",
      "7 3.5670804970292393\n",
      "8 3.0193280704279517\n",
      "9 2.5683553760974673\n",
      "10 2.052331323982934\n",
      "11 1.7770431338409676\n",
      "12 1.5642148982880344\n",
      "13 1.4430018648466985\n",
      "14 1.2775147269299145\n"
     ]
    },
    {
     "data": {
      "text/plain": [
       "[<matplotlib.lines.Line2D at 0x14184518>]"
      ]
     },
     "execution_count": 13,
     "metadata": {},
     "output_type": "execute_result"
    },
    {
     "data": {
      "image/png": "[encoded data removed]",
      "text/plain": [
       "<Figure size 432x288 with 1 Axes>"
      ]
     },
     "metadata": {},
     "output_type": "display_data"
    }
   ],
   "source": [
    "k = range(1,15)\n",
    "inerti = []\n",
    "for i in range(1,15):\n",
    "    clf = KMeans(n_clusters=i)\n",
    "    #print(i)\n",
    "    clf.fit(data_norm)\n",
    "    inerti.append(clf.inertia_)\n",
    "    print(i,clf.inertia_)\n",
    "plt.plot(k,inerti)"
   ]
  },
  {
   "cell_type": "code",
   "execution_count": null,
   "metadata": {
    "collapsed": true
   },
   "outputs": [],
   "source": []
  },
  {
   "cell_type": "code",
   "execution_count": null,
   "metadata": {
    "collapsed": true
   },
   "outputs": [],
   "source": []
  },
  {
   "cell_type": "code",
   "execution_count": 14,
   "metadata": {},
   "outputs": [
    {
     "data": {
      "text/plain": [
       "\"\\nimport numpy as np\\nimport pandas as pd\\nfrom sklearn.cluster import KMeans\\n#from sklearn.preprocessing import MinMaxScaler\\n\\ndata = pd.read_csv('Adobe1.csv')\\ndata.head()\\ndata.ATS = [int(i[2:4])*60 + int(i[5:]) for i in data.ATS]\\ntrain = data.drop(['Page'],axis=1)\\nclf = KMeans(n_clusters=4)\\n#?clf\\nclf.fit(train)\\nprint(clf.cluster_centers_)\\nprint(clf.labels_)\\nprint(clf.inertia_)\\nprint(clf.predict(train))\\n\""
      ]
     },
     "execution_count": 14,
     "metadata": {},
     "output_type": "execute_result"
    }
   ],
   "source": [
    "'''\n",
    "import numpy as np\n",
    "import pandas as pd\n",
    "from sklearn.cluster import KMeans\n",
    "#from sklearn.preprocessing import MinMaxScaler\n",
    "\n",
    "data = pd.read_csv('Adobe1.csv')\n",
    "data.head()\n",
    "data.ATS = [int(i[2:4])*60 + int(i[5:]) for i in data.ATS]\n",
    "train = data.drop(['Page'],axis=1)\n",
    "clf = KMeans(n_clusters=4)\n",
    "#?clf\n",
    "clf.fit(train)\n",
    "print(clf.cluster_centers_)\n",
    "print(clf.labels_)\n",
    "print(clf.inertia_)\n",
    "print(clf.predict(train))\n",
    "'''"
   ]
  },
  {
   "cell_type": "code",
   "execution_count": null,
   "metadata": {
    "collapsed": true
   },
   "outputs": [],
   "source": []
  },
  {
   "cell_type": "code",
   "execution_count": 15,
   "metadata": {},
   "outputs": [
    {
     "name": "stdout",
     "output_type": "stream",
     "text": [
      "[5.42319247e-01 1.96805495e-01 9.88580829e-02 8.10118536e-02\n",
      " 4.43601290e-02 3.01927012e-02 6.28334945e-03 1.54105866e-04\n",
      " 1.50356036e-05]\n",
      "[2.05798764e-01 7.46835519e-02 3.75145662e-02 3.07422969e-02\n",
      " 1.68337373e-02 1.14574960e-02 2.38439915e-03 5.84799394e-05\n",
      " 5.70569576e-06]\n"
     ]
    },
    {
     "data": {
      "text/plain": [
       "<matplotlib.collections.PathCollection at 0x144cd9b0>"
      ]
     },
     "execution_count": 15,
     "metadata": {},
     "output_type": "execute_result"
    },
    {
     "data": {
      "image/png": "[encoded data removed]",
      "text/plain": [
       "<Figure size 432x288 with 1 Axes>"
      ]
     },
     "metadata": {},
     "output_type": "display_data"
    }
   ],
   "source": [
    "from sklearn.decomposition import PCA\n",
    "pca = PCA(n_components=9)\n",
    "pca.fit(data_norm)\n",
    "print(pca.explained_variance_ratio_)\n",
    "print(pca.explained_variance_)\n",
    "data_norm_pca = pca.transform(data_norm)\n",
    "#plt.scatter(data_norm_pca[:,0],data_norm_pca[:,1])\n",
    "a = np.vstack((data_norm_pca[:,0],data_norm_pca[:,1],clf.labels_))\n",
    "b = pd.DataFrame(a).T\n",
    "b.columns = ['pca1','pca2','label']\n",
    "#fig, ax = plt.subplots()\n",
    "#ax.scatter(b.pca1,b.pca2)\n",
    "b0 = b.loc[b.label == 0,]\n",
    "b1 = b.loc[b.label == 1,]\n",
    "b2 = b.loc[b.label == 2,]\n",
    "b3 = b.loc[b.label == 3,]\n",
    "b4 = b.loc[b.label == 4,]\n",
    "b5 = b.loc[b.label == 5,]\n",
    "fig = plt.figure()  \n",
    "ax1 = fig.add_subplot(111)\n",
    "ax1.scatter(b1.pca1,b1.pca2,marker='.')\n",
    "ax1.scatter(b0.pca1,b0.pca2,marker=',')\n",
    "ax1.scatter(b2.pca1,b2.pca2,marker='o')\n",
    "ax1.scatter(b3.pca1,b3.pca2,marker='v')\n",
    "ax1.scatter(b4.pca1,b4.pca2,marker='v')\n",
    "ax1.scatter(b5.pca1,b5.pca2,marker='v')"
   ]
  },
  {
   "cell_type": "code",
   "execution_count": null,
   "metadata": {
    "collapsed": true
   },
   "outputs": [],
   "source": []
  },
  {
   "cell_type": "code",
   "execution_count": null,
   "metadata": {
    "collapsed": true
   },
   "outputs": [],
   "source": []
  },
  {
   "cell_type": "code",
   "execution_count": 102,
   "metadata": {
    "collapsed": true
   },
   "outputs": [],
   "source": []
  },
  {
   "cell_type": "code",
   "execution_count": null,
   "metadata": {
    "collapsed": true
   },
   "outputs": [],
   "source": []
  },
  {
   "cell_type": "code",
   "execution_count": null,
   "metadata": {
    "collapsed": true
   },
   "outputs": [],
   "source": []
  },
  {
   "cell_type": "code",
   "execution_count": null,
   "metadata": {
    "collapsed": true
   },
   "outputs": [],
   "source": []
  },
  {
   "cell_type": "code",
   "execution_count": null,
   "metadata": {
    "collapsed": true
   },
   "outputs": [],
   "source": []
  },
  {
   "cell_type": "code",
   "execution_count": 123,
   "metadata": {
    "collapsed": true
   },
   "outputs": [],
   "source": []
  },
  {
   "cell_type": "code",
   "execution_count": null,
   "metadata": {
    "collapsed": true
   },
   "outputs": [],
   "source": []
  },
  {
   "cell_type": "code",
   "execution_count": null,
   "metadata": {
    "collapsed": true
   },
   "outputs": [],
   "source": []
  },
  {
   "cell_type": "code",
   "execution_count": null,
   "metadata": {
    "collapsed": true
   },
   "outputs": [],
   "source": []
  },
  {
   "cell_type": "code",
   "execution_count": null,
   "metadata": {
    "collapsed": true
   },
   "outputs": [],
   "source": []
  },
  {
   "cell_type": "code",
   "execution_count": null,
   "metadata": {
    "collapsed": true
   },
   "outputs": [],
   "source": []
  },
  {
   "cell_type": "code",
   "execution_count": null,
   "metadata": {
    "collapsed": true
   },
   "outputs": [],
   "source": []
  },
  {
   "cell_type": "code",
   "execution_count": null,
   "metadata": {
    "collapsed": true
   },
   "outputs": [],
   "source": []
  },
  {
   "cell_type": "code",
   "execution_count": null,
   "metadata": {
    "collapsed": true
   },
   "outputs": [],
   "source": []
  }
 ],
 "metadata": {
  "kernelspec": {
   "display_name": "Python 3",
   "language": "python",
   "name": "python3"
  },
  "language_info": {
   "codemirror_mode": {
    "name": "ipython",
    "version": 3
   },
   "file_extension": ".py",
   "mimetype": "text/x-python",
   "name": "python",
   "nbconvert_exporter": "python",
   "pygments_lexer": "ipython3",
   "version": "3.6.5"
  }
 },
 "nbformat": 4,
 "nbformat_minor": 2
}
